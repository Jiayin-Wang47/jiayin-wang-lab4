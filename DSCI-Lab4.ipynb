{
 "cells": [
  {
   "cell_type": "markdown",
   "metadata": {
    "collapsed": true,
    "pycharm": {
     "is_executing": false,
     "name": "#%% md\n"
    }
   },
   "source": [
    "Lab 4\n",
    "---\n",
    "Hello All,\n",
    "\n",
    "I am Dhrumil Soni, the CP of the course DSCI 510. Welcome to the lab.\n",
    "\n",
    "Guidelines for the Lab:\n",
    "- You will be given the lab assignment in the start of the lab. You're supposed to complete it by the deadline stated on DEN. Should be usually on Friday Midnight.  \n",
    "\n",
    "- You've to complete the assignments individually. If you are having trouble completing the assignment do let me know, I will clear your doubts and guide you but I'll not write code for you and no one else should :) !!!  \n",
    "\n",
    "- You have to fill in the code to this notebook and upload it to your repository. And simply, submit the link to the repo. Also, the repository name has to be in the form '(First name)-(Last name)-lab(Lab Number)'. All characters in lowercase. For example, first lab for me would be 'dhrumil-soni-lab1'  \n",
    "\n",
    "- You are encouraged to look up resources online like python docs and stackoverflow. But, you are encouraged to look up the topics and not the questions themselves  \n",
    "\n",
    "- Your last submission will be counted towards your grade on DEN and do not edit the repository after the deadline  "
   ]
  },
  {
   "cell_type": "markdown",
   "metadata": {},
   "source": [
    "Q1.[10 points]\n",
    "---\n",
    "Given a password(string), return the score of the password as per the formula below and classify into categories as described below.\n",
    "\n",
    "$l = number\\ of\\ lowercase\\ characters$  \n",
    "$u = number\\ of\\ uppercase\\ characters$  \n",
    "$d = number\\ of\\ digits(0-9)$  \n",
    "$s = number\\ of\\ special\\ characters(any\\ character\\ not\\ in\\ l,u,d)$  \n",
    "$unique = number\\ of\\ unique\\ characters(characters\\ that\\ appear\\ atleast\\ once)$  \n",
    "$entropy = log_2(unique^{l+u+d+s})$\n",
    "\n",
    "$Formula:$  \n",
    "$score = (l*0.2+u*0.4+d*0.3+s*0.5)*entropy$  \n",
    "\n",
    "Classification -> Weak: $score<=50$, Medium: $50<score<=100$, Strong: $score>100$  \n",
    "\n",
    "**Print the Classification category and return the score calculated from the above formula.**  \n",
    "\n",
    "Input: string  \n",
    "Output: Return->float, print->string\n",
    "\n",
    "Note: Importing math is fine for this question\n",
    "\n",
    "Example:  \n",
    "1. \n",
    "```\n",
    "Input  \n",
    "password  \n",
    "Output  \n",
    "Print: Weak password  \n",
    "Return: 35.934143002337336  \n",
    "```\n",
    "2. \n",
    "```\n",
    "Input  \n",
    "badpassword123!  \n",
    "Output  \n",
    "Print: Strong password  \n",
    "Return: 193.58797503894243  \n",
    "```\n",
    "\n",
    "---\n",
    "Grading Rubric: 5 points if either of classification or score is incorrect. 10 points if both are correct. "
   ]
  },
  {
   "cell_type": "code",
   "execution_count": 3,
   "metadata": {},
   "outputs": [],
   "source": [
    "import math\n",
    "# Use this cell for your solution\n",
    "def password_strength(password):\n",
    "    \n",
    "    l, u, d, s, uni, ent = 0, 0, 0, 0, 0, 0\n",
    "    \n",
    "    for i in password:\n",
    "        \n",
    "        if i.islower():\n",
    "            l = l+1\n",
    "        \n",
    "        elif i.isupper():\n",
    "            u = u+1\n",
    "            \n",
    "        elif i.isdigit():\n",
    "            d = d+1\n",
    "        \n",
    "        else:\n",
    "            s = s+1\n",
    "            \n",
    "    uni = len(set(password))\n",
    "    ent = math.log(math.pow(uni,l+u+d+s),2)\n",
    "    score = (l*0.2 + u*0.4 + d*0.3 + s*0.5)*ent\n",
    "    \n",
    "    if score <= 50:\n",
    "        print('Weak Password')\n",
    "    elif 50<score<=100:\n",
    "        print('Medium Password')\n",
    "    else:\n",
    "        print('Strong Password')\n",
    "    \n",
    "    return score           \n",
    "    \n",
    "    pass"
   ]
  },
  {
   "cell_type": "code",
   "execution_count": 4,
   "metadata": {},
   "outputs": [
    {
     "name": "stdout",
     "output_type": "stream",
     "text": [
      "Strong Password\n"
     ]
    },
    {
     "data": {
      "text/plain": [
       "193.58797503894243"
      ]
     },
     "execution_count": 4,
     "metadata": {},
     "output_type": "execute_result"
    }
   ],
   "source": [
    "password_strength(\"badpassword123!\")\n",
    "# abspword123!"
   ]
  },
  {
   "cell_type": "markdown",
   "metadata": {},
   "source": [
    "Q2.[10 points]\n",
    "---\n",
    "Given a list of integers `arr` and a integer `product`, return an array of size 2 of numbers(pair of numbers) from the array `arr`, whose multiplication results into `product`. Return None if no pair exists.(None is not the same as 'None')   \n",
    "\n",
    "We will see a faster version of this soon. Try to think, what could we do to implement this function efficiently.\n",
    "\n",
    "Input: list(integers), integer  \n",
    "Output: return->list(integers)\n",
    "\n",
    "---\n",
    "Example 1:\n",
    "```\n",
    "Input:  \n",
    "arr=[1, 2, 3], product=3  \n",
    "Output:  \n",
    "[1, 3]  \n",
    "```\n",
    "Example 2:\n",
    "```\n",
    "Input:  \n",
    "arr=[12, 24, 36, 48], product=576  \n",
    "Output:  \n",
    "[12, 48]\n",
    "```\n",
    "---\n",
    "Grading Rubric: Binary"
   ]
  },
  {
   "cell_type": "code",
   "execution_count": 15,
   "metadata": {
    "pycharm": {
     "is_executing": false,
     "name": "#%%\n"
    }
   },
   "outputs": [],
   "source": [
    "# Use this cell for your solution\n",
    "def find_pair(arr, product):\n",
    "    \n",
    "    result = []\n",
    "    \n",
    "    for i in arr:\n",
    "        for j in arr:\n",
    "            if i*j == product and i!=j:\n",
    "                result.append(i)\n",
    "                result.append(j)\n",
    "    \n",
    "    if len(result)!= 0:\n",
    "        return list(set(result))\n",
    "    else: \n",
    "        return None    \n",
    "    \n",
    "    pass"
   ]
  },
  {
   "cell_type": "code",
   "execution_count": 16,
   "metadata": {},
   "outputs": [
    {
     "data": {
      "text/plain": [
       "[48, 12]"
      ]
     },
     "execution_count": 16,
     "metadata": {},
     "output_type": "execute_result"
    }
   ],
   "source": [
    "find_pair([12, 24, 36, 48], 576)"
   ]
  },
  {
   "cell_type": "markdown",
   "metadata": {},
   "source": [
    "Q3.[10 points] \n",
    "---\n",
    "Given two strings you need to return the list of **unique common words** from the two strings. Fill in two functions, one for `common_words` and other for `distinct_words`. You will find it helpful to use the `distinct_words` function in the `common_words` function. Apart from this, you will need to remove special characters from the words and hence, using the filled in function `remove_special_characters` function would be useful.\n",
    "\n",
    "Note: \n",
    "- You need to consider 'How' and 'how' as the same i.e., words are not case-sensitive. Hint: (Convert into common format)\n",
    "- You are not required to use the distinct_words function. But, it could be useful and clean.  \n",
    "\n",
    "Hint: set() function on a list, converts list to a set(a set could have only unique elements)\n",
    "\n",
    "Input: string, string  \n",
    "Output: return->list/set of strings  \n",
    "\n",
    "---\n",
    "Example: \n",
    "1.  \n",
    "```\n",
    "Input:  \n",
    "txt1 = 'how are you?', txt2 = 'are you sure?'  \n",
    "Output:  \n",
    "['are', 'you']  \n",
    "```\n",
    "2.  \n",
    "```\n",
    "Input:  \n",
    "txt1 = 'Can you can a can as a canner can can a can?', txt2 = \"Its time to think, Can you really can a can?\"  \n",
    "Output:  \n",
    "['can', 'a', 'you']\n",
    "```\n",
    "\n",
    "---\n",
    "Grading Rubric:  \n",
    "5 points if common words are found correctly without considering cases or special characters.  \n",
    "7 points if common words are found correctly without considering one of cases or special characters.  \n",
    "10 points if code works for all cases. "
   ]
  },
  {
   "cell_type": "code",
   "execution_count": 33,
   "metadata": {},
   "outputs": [],
   "source": [
    "import re\n",
    "\n",
    "def remove_special_characters(word):\n",
    "    regex = re.compile('[^a-zA-Z]')\n",
    "    return regex.sub('', word)"
   ]
  },
  {
   "cell_type": "code",
   "execution_count": 34,
   "metadata": {},
   "outputs": [],
   "source": [
    "def distinct_words(text):\n",
    "    \n",
    "    text = text.lower()\n",
    "    text = text.split(\" \")\n",
    "    t = []\n",
    "    \n",
    "    for word in text:\n",
    "        t.append(remove_special_characters(word))\n",
    "    return t\n",
    "    \n",
    "    pass"
   ]
  },
  {
   "cell_type": "code",
   "execution_count": 40,
   "metadata": {},
   "outputs": [],
   "source": [
    "# Use this cell for your solution\n",
    "def common_words(txt1, txt2):\n",
    "    \n",
    "    t1 = distinct_words(txt1)\n",
    "    t2 = distinct_words(txt2)\n",
    "    \n",
    "    return list(set(t1).intersection(set(t2)))\n",
    "    \n",
    "    pass"
   ]
  },
  {
   "cell_type": "code",
   "execution_count": 41,
   "metadata": {},
   "outputs": [
    {
     "name": "stdout",
     "output_type": "stream",
     "text": [
      "Your output-> ['are', 'you'] Actual Output-> ['are', 'you']\n",
      "Your output-> ['a', 'you', 'can'] Actual Output-> ['can', 'a', 'you']\n"
     ]
    }
   ],
   "source": [
    "# Do not change this cell \n",
    "print('Your output->', common_words('how are you?', 'are you sure?'), 'Actual Output->', ['are', 'you'])\n",
    "print('Your output->', common_words('Can you can a can as a canner can can a can?', 'Its time to think, Can you really can a can?'), 'Actual Output->', ['can', 'a', 'you'])"
   ]
  },
  {
   "cell_type": "markdown",
   "metadata": {},
   "source": [
    "Finished Early? \n",
    "\n",
    "Bonus Question[5 points] \n",
    "---\n",
    "Person A comes to class every nth day and person B comes to class every mth day. After how many days will they meet for first time after the classes have started?  \n",
    "\n",
    "Input: integer, integer  \n",
    "Output: return->integer  \n",
    "\n",
    "Yes, there is a obvious implementation to this. Can you make it **faster**?  \n",
    "\n",
    "Example:  \n",
    "```\n",
    "Input  \n",
    "n=2, m=3  \n",
    "Output  \n",
    "6\n",
    "```\n",
    "\n",
    "---\n",
    "Grading Rubric: Binary"
   ]
  },
  {
   "cell_type": "code",
   "execution_count": 20,
   "metadata": {},
   "outputs": [
    {
     "data": {
      "text/plain": [
       "6"
      ]
     },
     "execution_count": 20,
     "metadata": {},
     "output_type": "execute_result"
    }
   ],
   "source": [
    "def every_n_m_day(n, m):\n",
    "    \n",
    "    if n > m:\n",
    "        start = n\n",
    "    else:\n",
    "        start = m\n",
    "        \n",
    "    while True:\n",
    "        if (start % n == 0) and (start % m == 0):\n",
    "            result = start\n",
    "            break\n",
    "        else:\n",
    "            start += 1\n",
    "            \n",
    "    return start\n",
    "\n",
    "    pass\n",
    "\n",
    "every_n_m_day(2,3)"
   ]
  }
 ],
 "metadata": {
  "kernelspec": {
   "display_name": "Python 3",
   "language": "python",
   "name": "python3"
  },
  "language_info": {
   "codemirror_mode": {
    "name": "ipython",
    "version": 3
   },
   "file_extension": ".py",
   "mimetype": "text/x-python",
   "name": "python",
   "nbconvert_exporter": "python",
   "pygments_lexer": "ipython3",
   "version": "3.7.6"
  },
  "pycharm": {
   "stem_cell": {
    "cell_type": "raw",
    "metadata": {
     "collapsed": false
    },
    "source": []
   }
  }
 },
 "nbformat": 4,
 "nbformat_minor": 1
}
